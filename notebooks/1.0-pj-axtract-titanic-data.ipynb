{
 "cells": [
  {
   "cell_type": "code",
   "execution_count": 1,
   "metadata": {},
   "outputs": [
    {
     "name": "stdout",
     "output_type": "stream",
     "text": [
      "Collecting python-dotenv\n",
      "  Downloading python_dotenv-0.13.0-py2.py3-none-any.whl (17 kB)\n",
      "Installing collected packages: python-dotenv\n",
      "Successfully installed python-dotenv-0.13.0\n"
     ]
    }
   ],
   "source": [
    "!pip install python-dotenv"
   ]
  },
  {
   "cell_type": "code",
   "execution_count": 11,
   "metadata": {},
   "outputs": [],
   "source": [
    "from dotenv import load_dotenv, find_dotenv"
   ]
  },
  {
   "cell_type": "code",
   "execution_count": 13,
   "metadata": {},
   "outputs": [
    {
     "data": {
      "text/plain": [
       "True"
      ]
     },
     "execution_count": 13,
     "metadata": {},
     "output_type": "execute_result"
    }
   ],
   "source": [
    "# find .env automatically by walking up dirs intil it's found\n",
    "doenv_path = find_dotenv('*.env')\n",
    "# load up the entries as environment variables\n",
    "load_dotenv(doenv_path)"
   ]
  },
  {
   "cell_type": "code",
   "execution_count": 14,
   "metadata": {},
   "outputs": [
    {
     "name": "stdout",
     "output_type": "stream",
     "text": [
      "julicq\n"
     ]
    }
   ],
   "source": [
    "import os\n",
    "KAGGLE_USERNAME = os.environ.get(\"KAGGLE_USERNAME\")\n",
    "print(KAGGLE_USERNAME)"
   ]
  },
  {
   "cell_type": "code",
   "execution_count": 15,
   "metadata": {},
   "outputs": [],
   "source": [
    "import requests\n",
    "from requests import session\n",
    "import os\n",
    "from dotenv import load_dotenv, find_dotenv"
   ]
  },
  {
   "cell_type": "code",
   "execution_count": 20,
   "metadata": {},
   "outputs": [],
   "source": [
    "# payload for post\n",
    "#payload = {\n",
    "#    'action': 'login',\n",
    "#    'username': os.environ.get(\"KAGGLE_USERNAME\"),\n",
    "#    'password': os.environ.get(\"KAGGLE_PASSWORD\")\n",
    "#}\n",
    "\n",
    "# url for train file on Kaggle website\n",
    "#url = 'https://www.kaggle.com/c/titanic/download/train.csv'\n",
    "\n",
    "# setup session\n",
    "#with session() as c:\n",
    "    # post request\n",
    "#    c.post('https://www.kaggle.com/account/login', data=payload)\n",
    "    # get request\n",
    "#    response = c.get(url)\n",
    "    # print response text\n",
    "#    print(response.text)"
   ]
  },
  {
   "cell_type": "code",
   "execution_count": 21,
   "metadata": {},
   "outputs": [
    {
     "name": "stdout",
     "output_type": "stream",
     "text": [
      "total 176\r\n",
      "-rw-r--r--@ 1 yulianpavlov  staff  28629 Apr 28 22:58 test.csv\r\n",
      "-rw-r--r--@ 1 yulianpavlov  staff  61194 Apr 28 22:58 train.csv\r\n"
     ]
    }
   ],
   "source": [
    "!ls -l ../data/raw"
   ]
  }
 ],
 "metadata": {
  "kernelspec": {
   "display_name": "Python 3",
   "language": "python",
   "name": "python3"
  },
  "language_info": {
   "codemirror_mode": {
    "name": "ipython",
    "version": 3
   },
   "file_extension": ".py",
   "mimetype": "text/x-python",
   "name": "python",
   "nbconvert_exporter": "python",
   "pygments_lexer": "ipython3",
   "version": "3.7.6"
  }
 },
 "nbformat": 4,
 "nbformat_minor": 4
}
